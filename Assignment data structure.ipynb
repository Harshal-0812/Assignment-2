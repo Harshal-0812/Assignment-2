{
 "cells": [
  {
   "cell_type": "markdown",
   "id": "ef49b1e9",
   "metadata": {},
   "source": [
    "# . Q1] How do you comment code in Python? What are the different types of comments?"
   ]
  },
  {
   "cell_type": "markdown",
   "id": "6b44840a",
   "metadata": {},
   "source": [
    "Single-line comments begin with the “#” character.\n",
    "You can also use multi-line strings for commenting. To do this, use either a ‘’ or “” quotation marks three times.\n",
    "Python docstring: They are written in the first line after defining a module, function, method, etc., using three quotation marks (‘’ or “”)."
   ]
  },
  {
   "cell_type": "markdown",
   "id": "c1414e53",
   "metadata": {},
   "source": [
    "# Q2. What are variables in Python? How do you declare and assign values to variables?"
   ]
  },
  {
   "cell_type": "markdown",
   "id": "14ac2f45",
   "metadata": {},
   "source": [
    "In Python, variables are used to store and represent data. They act as containers that hold values of different types, such as numbers, strings, or objects. Python, you don't need to explicitly declare variables before using them. You can simply assign a value to a variable, and Python will automatically create the variable for you. For example:a = 10."
   ]
  },
  {
   "cell_type": "markdown",
   "id": "4b551db2",
   "metadata": {},
   "source": [
    "# Q3. How do you convert one data type to another in Python?"
   ]
  },
  {
   "cell_type": "markdown",
   "id": "4b1dbb8b",
   "metadata": {},
   "source": [
    "You can explicitly convert one data type to another using type conversion functions or constructors. Here are some commonly used conversion functions:\n",
    "1] int()\n",
    "2] float()\n",
    "3] str()\n",
    "4] list()\n",
    "5] tuple()\n",
    "6] set()\n",
    "7] dict()\n",
    "8] bool()"
   ]
  },
  {
   "cell_type": "markdown",
   "id": "8c431c68",
   "metadata": {},
   "source": [
    "# Q4. How do you write and execute a Python script from the command line?"
   ]
  },
  {
   "cell_type": "markdown",
   "id": "48a37420",
   "metadata": {},
   "source": [
    "1]Open a text editor (such as Notepad, Sublime Text, or Visual Studio Code) to write your Python script.\n",
    "2]Write your Python code in the text editor and save the file with a .py extension. \n",
    "3]Open the command prompt or terminal on your operating system.\n",
    "4]Navigate to the directory where you saved the Python script using the cd command.\n",
    "5]Once you are in the correct directory, you can execute the Python script using the python command followed by the name of the script file.\n",
    "6]This will run your Python script, and the output will be displayed in the command prompt or terminal."
   ]
  },
  {
   "cell_type": "markdown",
   "id": "816d2d05",
   "metadata": {},
   "source": [
    "# Q5. Given a list my_list = [1, 2, 3, 4, 5], write the code to slice the list and obtain the sub-list [2, 3].?"
   ]
  },
  {
   "cell_type": "code",
   "execution_count": 1,
   "id": "756adcf9",
   "metadata": {},
   "outputs": [
    {
     "name": "stdout",
     "output_type": "stream",
     "text": [
      "[2, 3]\n"
     ]
    }
   ],
   "source": [
    "my_list = [1,2,3,4,5]\n",
    "l2 = my_list[1:3]\n",
    "print(l2)"
   ]
  },
  {
   "cell_type": "markdown",
   "id": "cefbfeca",
   "metadata": {},
   "source": [
    "# Q6. What is a complex number in mathematics, and how is it represented in Python?"
   ]
  },
  {
   "cell_type": "markdown",
   "id": "0c349ae6",
   "metadata": {},
   "source": [
    "In mathematics, a complex number is a number of the form a + bi, where a and b are real numbers, and i represents the imaginary unit. The imaginary unit i is defined as the square root of -1.In Python, complex numbers can be represented using the complex data type. The imaginary part is denoted using the letter j instead of i as in mathematics. The general syntax to represent a complex number in Python is a + bj, where a and b are real numbers."
   ]
  },
  {
   "cell_type": "markdown",
   "id": "fc30cfe2",
   "metadata": {},
   "source": [
    "# Q7. What is the correct way to declare a variable named age and assign the value 25 to it?"
   ]
  },
  {
   "cell_type": "code",
   "execution_count": 2,
   "id": "5981a97c",
   "metadata": {},
   "outputs": [],
   "source": [
    "age = 25"
   ]
  },
  {
   "cell_type": "code",
   "execution_count": 3,
   "id": "218513f1",
   "metadata": {},
   "outputs": [
    {
     "name": "stdout",
     "output_type": "stream",
     "text": [
      "25\n"
     ]
    }
   ],
   "source": [
    "print(25)"
   ]
  },
  {
   "cell_type": "markdown",
   "id": "3c9563c4",
   "metadata": {},
   "source": [
    "# Q8. Declare a variable named price and assign the value 9.99 to it. What data type does this variable belong to?"
   ]
  },
  {
   "cell_type": "code",
   "execution_count": 4,
   "id": "3ea5e395",
   "metadata": {},
   "outputs": [],
   "source": [
    "price = 9.99    #float"
   ]
  },
  {
   "cell_type": "code",
   "execution_count": 5,
   "id": "4868550f",
   "metadata": {},
   "outputs": [
    {
     "data": {
      "text/plain": [
       "float"
      ]
     },
     "execution_count": 5,
     "metadata": {},
     "output_type": "execute_result"
    }
   ],
   "source": [
    "type(price)"
   ]
  },
  {
   "cell_type": "markdown",
   "id": "52bb1526",
   "metadata": {},
   "source": [
    "# Q9. Create a variable named name and assign your full name to it as a string. How would you print the value of this variable?"
   ]
  },
  {
   "cell_type": "code",
   "execution_count": 6,
   "id": "e018c2a1",
   "metadata": {},
   "outputs": [],
   "source": [
    "name = \"harshal gajbhiye\""
   ]
  },
  {
   "cell_type": "code",
   "execution_count": 7,
   "id": "22332b05",
   "metadata": {},
   "outputs": [
    {
     "name": "stdout",
     "output_type": "stream",
     "text": [
      "harshal gajbhiye\n"
     ]
    }
   ],
   "source": [
    "print(name)"
   ]
  },
  {
   "cell_type": "markdown",
   "id": "ac8763a7",
   "metadata": {},
   "source": [
    "# Q10. Given the string \"Hello, World!\", extract the substring \"World\"?"
   ]
  },
  {
   "cell_type": "code",
   "execution_count": 8,
   "id": "7f6894b8",
   "metadata": {},
   "outputs": [],
   "source": [
    "string_name = \"Hello, World!\""
   ]
  },
  {
   "cell_type": "code",
   "execution_count": 9,
   "id": "997a037d",
   "metadata": {},
   "outputs": [
    {
     "data": {
      "text/plain": [
       "'World!'"
      ]
     },
     "execution_count": 9,
     "metadata": {},
     "output_type": "execute_result"
    }
   ],
   "source": [
    "string_name[7:]"
   ]
  }
 ],
 "metadata": {
  "kernelspec": {
   "display_name": "Python 3 (ipykernel)",
   "language": "python",
   "name": "python3"
  },
  "language_info": {
   "codemirror_mode": {
    "name": "ipython",
    "version": 3
   },
   "file_extension": ".py",
   "mimetype": "text/x-python",
   "name": "python",
   "nbconvert_exporter": "python",
   "pygments_lexer": "ipython3",
   "version": "3.10.9"
  }
 },
 "nbformat": 4,
 "nbformat_minor": 5
}
